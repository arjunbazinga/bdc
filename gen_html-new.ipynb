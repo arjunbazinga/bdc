{
 "cells": [
  {
   "cell_type": "code",
   "execution_count": 13,
   "metadata": {},
   "outputs": [],
   "source": [
    "head_html = \"\"\"<html>\n",
    "\n",
    "<head>\n",
    "\n",
    "\n",
    "  <meta name=viewport content='width=700'>\n",
    "  <meta name=\"mobile-web-app-capable\" content=\"yes\">\n",
    "  <meta name=\"theme-color\" content=\"#000000\">\n",
    "  <meta name=\"viewport\" content=\"width=device-width,initial-scale=1,maximum-scale=1,user-scalable=no\">\n",
    "  <meta http-equiv=\"X-UA-Compatible\" content=\"IE=edge,chrome=1\">\n",
    "  <meta name=\"HandheldFriendly\" content=\"true\">\n",
    "  <meta name=\"apple-mobile-web-app-capable\" content=\"yes\">\n",
    "\n",
    "</head>\n",
    "<Title>Burn's Depression Checklist</Title>\n",
    "\n",
    "<body>\n",
    "  <style>\n",
    "    body {\n",
    "                margin: auto;\n",
    "                background: #fffde8;\n",
    "                padding: 10px;\n",
    "              \n",
    "            }\n",
    "            ::-moz-selection {\n",
    "                background: yellow;\n",
    "            }\n",
    "            ::selection {\n",
    "                background: yellow;\n",
    "            }\n",
    "    table {\n",
    "    font-family: arial, sans-serif;\n",
    "    border-collapse: collapse;\n",
    "\n",
    "    }\n",
    "\n",
    "    td, th {\n",
    "        border: 1px solid #dddddd;\n",
    "        text-align: left;\n",
    "        padding: 8px;\n",
    "    }\n",
    "\n",
    "    tr:nth-child(even) {\n",
    "        background-color: #dddddd;\n",
    "    }\n",
    "    #ans_div {\n",
    "    display: none;\n",
    "    }\n",
    "    \n",
    "\n",
    "        </style>\n",
    "  <h2>Burns Depression Checklist</h2>\n",
    "\"\"\""
   ]
  },
  {
   "cell_type": "code",
   "execution_count": 14,
   "metadata": {},
   "outputs": [],
   "source": [
    "schema = [\n",
    "    [\"Thoughts and Feelings\",\n",
    "      [\n",
    "        \"Feeling sad or down in the dumps\",\n",
    "        \"Feeling unhappy or blue\",\n",
    "        \"Crying spells or tearfulness\",\n",
    "        \"Feeling discouraged\",\n",
    "        \"Feeling hopeless\",\n",
    "        \"Low self esteem\",\n",
    "        \"Feeling worthless or inadequate\",\n",
    "        \"Guilt or shame\",\n",
    "        \"Criticizing yourself or blaming other\",\n",
    "        \"Difficulty making decisions\"\n",
    "      ]\n",
    "    ],\n",
    "\n",
    "    [\n",
    "      \"Activities and Personal Relationships\",\n",
    "      [\n",
    "        \"Loss of interest in family, friends or colleagues\",\n",
    "        \"Loneliness\",\n",
    "        \"Spending less time with family or friends\",\n",
    "        \"Loss of motivation\",\n",
    "        \"Loss of interest in work or other activities\",\n",
    "        \"Avoiding work or other activities\",\n",
    "        \"Loss of pleasure or satisfaction in life\"\n",
    "      ]\n",
    "    ],\n",
    "\n",
    "    [\"Physical Symptoms\",\n",
    "      [\n",
    "        \"Feeling tired\",\n",
    "        \"Difficulty sleeping or sleeping too much\",\n",
    "        \"Decreased or increased appetite\",\n",
    "        \"Loss of interest in sex\",\n",
    "        \"Worrying about your health\"\n",
    "      ]\n",
    "    ],\n",
    "\n",
    "    [\"Suicidal Urges\",\n",
    "      [\n",
    "        \"Do you have any suicidal thoughts?\",\n",
    "        \"Would you like to end your life?\",\n",
    "        \"Do you have a plan for harming yourself?\"\n",
    "      ]\n",
    "    ]\n",
    "  ]"
   ]
  },
  {
   "cell_type": "code",
   "execution_count": 15,
   "metadata": {},
   "outputs": [],
   "source": [
    "def getForm(schema):\n",
    "    form_head = \"<div id=\\\"Form\\\">\"\n",
    "    mid = \"\"\n",
    "    for s in range(len(schema)):\n",
    "        mid += getSection(s, schema[s])\n",
    "    form_tail = \"\"\"</div><input type=\"button\" id=\"ans\" value=\"Calculate Result\"><br><br>\n",
    "    <div id=\"ans_div\"><div id=\"ans_div_value\"></div><br>\n",
    "    <table>\n",
    "         <tr><th>Level of Depression</th><th>Total Score</th></tr>\n",
    "         \"\"\"\n",
    "    form_tail = form_head + mid + form_tail\n",
    "    \n",
    "    ranges = [(0,5), (6,10), (11,25), (26,50), (51,75), (76,100)]\n",
    "    level = [\"No Depression\", \"Normal but unhappy\", \"Mild depression\", \"Moderate depression\",\n",
    "            \"Severe depression\", \"Extreme depression\"]\n",
    "    t = \"\"\n",
    "    for i in range(len(level)):\n",
    "         t += f\"<tr><td>{level[i]}</td><td>{ranges[i][0]}-{ranges[i][1]}</td></tr>\"\n",
    "    \n",
    "    end = \"</table></div>\"\n",
    "    return form_tail + t + end"
   ]
  },
  {
   "cell_type": "code",
   "execution_count": 16,
   "metadata": {},
   "outputs": [],
   "source": [
    "def getSection(s, section):\n",
    "    section_head = f\"<h3>{section[0]}</h3>\"\n",
    "    section_head += \"\"\"<table>\n",
    "                        <tr>\n",
    "                            <th >Question</th>\n",
    "                            <th>Not At All</th>\n",
    "                            <th>Somewhat</th> \n",
    "                            <th>Moderately</th>\n",
    "                            <th>A lot</th>\n",
    "                            <th>Extremely</th>\n",
    "                        </tr>\n",
    "    \"\"\"\n",
    "   \n",
    "    mid = \"\"\n",
    "    for q in range(len(section[1])):\n",
    "        mid += getQuestion(s,q,section[1][q])\n",
    "    section_tail = \"</table><br>\"\n",
    "    return section_head + mid + section_tail"
   ]
  },
  {
   "cell_type": "code",
   "execution_count": 17,
   "metadata": {},
   "outputs": [],
   "source": [
    "id_to_score = {}\n",
    "id_to_question = {}\n",
    "def getQuestion(s, q, question):\n",
    "    options = [\"Not At All\",\"Somewhat\",\"Moderately\",\"A Lot\",\"Extremely\"]\n",
    "    question_head = f\"<tr><th>{question}</th>\"  \n",
    "    mid = \"\"\n",
    "    for o in range(len(options)):\n",
    "        mid += f\"<th><input type=\\\"radio\\\" Name=\\\"{str(s)+str(q)}\\\" id=\\\"{str(s)+str(q)+str(o)}\\\"></input></th>\"\n",
    "        id_to_score[str(s)+str(q)+str(o)]=o\n",
    "        id_to_question[str(s)+str(q)+str(o)]=str(s)+str(q)\n",
    "    question_end = \"</tr>\"\n",
    "    return question_head + mid + question_end"
   ]
  },
  {
   "cell_type": "code",
   "execution_count": 18,
   "metadata": {},
   "outputs": [],
   "source": [
    "def get_js(id_to_score, id_to_question):\n",
    "    js_head = \"<script>ans = {};\"\n",
    "    ans = \"\"\n",
    "    for i in id_to_score:\n",
    "        ans += \"document.getElementById(\\\"\"+str(i)+\"\\\").onclick = function ()\" + \"{ans[\\\"\"+ str(id_to_question[i]) + \"\\\"]=\" +str(id_to_score[i])+\";};\"\n",
    "    js_tail = \"\"\" document.getElementById(\"ans\").onclick = function (){\n",
    "    var total = 0;\n",
    "    for (var i in ans) {\n",
    "    total += ans[i];\n",
    "    }\n",
    "document.getElementById(\"ans_div_value\").innerHTML = \"Result : \" + total;\n",
    " document.getElementById(\"ans_div\").style.display = \"block\"}\n",
    "    </script>\"\"\"\n",
    "    \n",
    "    return js_head + ans + js_tail"
   ]
  },
  {
   "cell_type": "code",
   "execution_count": 19,
   "metadata": {},
   "outputs": [],
   "source": [
    "tail_html =   \"\"\"\n",
    "</body>\n",
    "\n",
    "</html>\n",
    "\"\"\""
   ]
  },
  {
   "cell_type": "code",
   "execution_count": 26,
   "metadata": {},
   "outputs": [],
   "source": [
    "js = get_js(id_to_score, id_to_question)"
   ]
  },
  {
   "cell_type": "code",
   "execution_count": 28,
   "metadata": {},
   "outputs": [],
   "source": [
    "mid_html = getForm(schema)"
   ]
  },
  {
   "cell_type": "code",
   "execution_count": 29,
   "metadata": {},
   "outputs": [],
   "source": [
    "final = head_html + mid_html + js + tail_html"
   ]
  },
  {
   "cell_type": "code",
   "execution_count": 30,
   "metadata": {},
   "outputs": [],
   "source": [
    "with open(\"index.html\", \"w\") as f:\n",
    "    f.write(final)"
   ]
  },
  {
   "cell_type": "code",
   "execution_count": null,
   "metadata": {},
   "outputs": [],
   "source": []
  }
 ],
 "metadata": {
  "kernelspec": {
   "display_name": "Python 3",
   "language": "python",
   "name": "python3"
  },
  "language_info": {
   "codemirror_mode": {
    "name": "ipython",
    "version": 3
   },
   "file_extension": ".py",
   "mimetype": "text/x-python",
   "name": "python",
   "nbconvert_exporter": "python",
   "pygments_lexer": "ipython3",
   "version": "3.6.3"
  }
 },
 "nbformat": 4,
 "nbformat_minor": 2
}
