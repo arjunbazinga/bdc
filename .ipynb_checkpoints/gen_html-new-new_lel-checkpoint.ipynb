{
 "cells": [
  {
   "cell_type": "code",
   "execution_count": 1,
   "metadata": {},
   "outputs": [],
   "source": [
    "head_html = \"\"\"<html>\n",
    "\n",
    "<head>\n",
    "    <!-- Global site tag (gtag.js) - Google Analytics -->\n",
    "    <script async src=\"https://www.googletagmanager.com/gtag/js?id=UA-101184475-5\"></script>\n",
    "    <script>\n",
    "      window.dataLayer = window.dataLayer || [];\n",
    "      function gtag(){dataLayer.push(arguments);}\n",
    "      gtag('js', new Date());\n",
    "\n",
    "      gtag('config', 'UA-101184475-5');\n",
    "    </script>\n",
    "\n",
    "\n",
    "  <meta name=viewport content='width=700'>\n",
    "  <meta name=\"mobile-web-app-capable\" content=\"yes\">\n",
    "  <meta name=\"theme-color\" content=\"#000000\">\n",
    "  <meta name=\"viewport\" content=\"width=device-width,initial-scale=1,maximum-scale=1,user-scalable=no\">\n",
    "  <meta http-equiv=\"X-UA-Compatible\" content=\"IE=edge,chrome=1\">\n",
    "  <meta name=\"HandheldFriendly\" content=\"true\">\n",
    "  <meta name=\"apple-mobile-web-app-capable\" content=\"yes\">\n",
    "\n",
    "</head>\n",
    "<Title>Burn's Depression Checklist</Title>\n",
    "\n",
    "<body>\n",
    "  <style>\n",
    "    body {\n",
    "                margin: auto;\n",
    "                background: #fffde8;\n",
    "                padding: 10px;\n",
    "              \n",
    "            }\n",
    "            ::-moz-selection {\n",
    "                background: yellow;\n",
    "            }\n",
    "            ::selection {\n",
    "                background: yellow;\n",
    "            }\n",
    "    table {\n",
    "    font-family: arial, sans-serif;\n",
    "    border-collapse: collapse;\n",
    "\n",
    "    }\n",
    "\n",
    "    td, th {\n",
    "        border: 1px solid #dddddd;\n",
    "        text-align: left;\n",
    "        padding: 8px;\n",
    "    }\n",
    "\n",
    "    tr:nth-child(even) {\n",
    "        background-color: #dddddd;\n",
    "    }\n",
    "    #ans_div {\n",
    "    display: none;\n",
    "    }\n",
    "    \n",
    "\n",
    "        </style>\n",
    "  <h2>Burns Depression Checklist</h2>\n",
    "  Answer all questions.\n",
    "\"\"\""
   ]
  },
  {
   "cell_type": "code",
   "execution_count": 2,
   "metadata": {},
   "outputs": [],
   "source": [
    "schema = [\n",
    "    [\"Thoughts and Feelings\",\n",
    "      [\n",
    "        \"Feeling sad or down in the dumps\",\n",
    "        \"Feeling unhappy or blue\",\n",
    "        \"Crying spells or tearfulness\",\n",
    "        \"Feeling discouraged\",\n",
    "        \"Feeling hopeless\",\n",
    "        \"Low self esteem\",\n",
    "        \"Feeling worthless or inadequate\",\n",
    "        \"Guilt or shame\",\n",
    "        \"Criticizing yourself or blaming other\",\n",
    "        \"Difficulty making decisions\"\n",
    "      ]\n",
    "    ],\n",
    "\n",
    "    [\n",
    "      \"Activities and Personal Relationships\",\n",
    "      [\n",
    "        \"Loss of interest in family, friends or colleagues\",\n",
    "        \"Loneliness\",\n",
    "        \"Spending less time with family or friends\",\n",
    "        \"Loss of motivation\",\n",
    "        \"Loss of interest in work or other activities\",\n",
    "        \"Avoiding work or other activities\",\n",
    "        \"Loss of pleasure or satisfaction in life\"\n",
    "      ]\n",
    "    ],\n",
    "\n",
    "    [\"Physical Symptoms\",\n",
    "      [\n",
    "        \"Feeling tired\",\n",
    "        \"Difficulty sleeping or sleeping too much\",\n",
    "        \"Decreased or increased appetite\",\n",
    "        \"Loss of interest in sex\",\n",
    "        \"Worrying about your health\"\n",
    "      ]\n",
    "    ],\n",
    "\n",
    "    [\"Suicidal Urges\",\n",
    "      [\n",
    "        \"Do you have any suicidal thoughts?\",\n",
    "        \"Would you like to end your life?\",\n",
    "        \"Do you have a plan for harming yourself?\"\n",
    "      ]\n",
    "    ]\n",
    "  ]"
   ]
  },
  {
   "cell_type": "code",
   "execution_count": 3,
   "metadata": {},
   "outputs": [],
   "source": [
    "def getForm(schema):\n",
    "    form_head = \"<div id=\\\"Form\\\">\"\n",
    "    mid = \"\"\n",
    "    for s in range(len(schema)):\n",
    "        mid += getSection(s, schema[s])\n",
    "    form_tail = \"\"\"</div>Answer All the questions before you continue.<br><input type=\"button\" id=\"ans\" value=\"Calculate Result\"><br><br>\n",
    "    <div id=\"ans_div\"><div id=\"ans_div_value\"></div><br>\n",
    "    <table>\n",
    "         <tr><th>Level of Depression</th><th>Total Score</th></tr>\n",
    "         \"\"\"\n",
    "    form_tail = form_head + mid + form_tail\n",
    "    \n",
    "    ranges = [(0,5), (6,10), (11,25), (26,50), (51,75), (76,100)]\n",
    "    level = [\"No Depression\", \"Normal but unhappy\", \"Mild depression\", \"Moderate depression\",\n",
    "            \"Severe depression\", \"Extreme depression\"]\n",
    "    t = \"\"\n",
    "    for i in range(len(level)):\n",
    "         t += f\"<tr><td>{level[i]}</td><td>{ranges[i][0]}-{ranges[i][1]}</td></tr>\"\n",
    "    \n",
    "    end = \"</table></div>\"\n",
    "    return form_tail + t + end"
   ]
  },
  {
   "cell_type": "code",
   "execution_count": 4,
   "metadata": {},
   "outputs": [],
   "source": [
    "def getSection(s, section):\n",
    "    section_head = f\"<h3>{section[0]}</h3>\"\n",
    "    section_head += \"\"\"<table>\n",
    "                        <tr>\n",
    "                            <th >Question</th>\n",
    "                            <th>Not At All</th>\n",
    "                            <th>Somewhat</th> \n",
    "                            <th>Moderately</th>\n",
    "                            <th>A lot</th>\n",
    "                            <th>Extremely</th>\n",
    "                        </tr>\n",
    "    \"\"\"\n",
    "   \n",
    "    mid = \"\"\n",
    "    for q in range(len(section[1])):\n",
    "        mid += getQuestion(s,q,section[1][q])\n",
    "    section_tail = \"</table><br>\"\n",
    "    return section_head + mid + section_tail"
   ]
  },
  {
   "cell_type": "code",
   "execution_count": 5,
   "metadata": {},
   "outputs": [],
   "source": [
    "id_to_score = {}\n",
    "id_to_question = {}"
   ]
  },
  {
   "cell_type": "code",
   "execution_count": 6,
   "metadata": {},
   "outputs": [],
   "source": [
    "def getQuestion(s, q, question):\n",
    "    options = [\"Not At All\",\"Somewhat\",\"Moderately\",\"A Lot\",\"Extremely\"]\n",
    "    question_head = f\"<tr><th>{question}</th>\"  \n",
    "    mid = \"\"\n",
    "    for o in range(len(options)):\n",
    "        mid += f\"<th><input type=\\\"radio\\\" Name=\\\"{str(s)+str(q)}\\\" id=\\\"{str(s)+str(q)+str(o)}\\\"></input></th>\"\n",
    "        id_to_score[str(s)+str(q)+str(o)]=o\n",
    "        id_to_question[str(s)+str(q)+str(o)]=str(s)+str(q)\n",
    "    question_end = \"</tr>\"\n",
    "    return question_head + mid + question_end"
   ]
  },
  {
   "cell_type": "code",
   "execution_count": 7,
   "metadata": {},
   "outputs": [],
   "source": [
    "def get_js(id_to_score, id_to_question):\n",
    "    js_head = \"<script>ans = {};\"\n",
    "    ans = \"\"\n",
    "    for i in id_to_score:\n",
    "        ans += \"document.getElementById(\\\"\"+str(i)+\"\\\").onclick = function ()\" + \"{ans[\\\"\"+ str(id_to_question[i]) + \"\\\"]=\" +str(id_to_score[i])+\";};\"\n",
    "    js_tail = \"\"\" document.getElementById(\"ans\").onclick = function (){\n",
    "    var total = 0;\n",
    "    for (var i in ans) {\n",
    "    total += ans[i];\n",
    "    }\n",
    "document.getElementById(\"ans_div_value\").innerHTML = \"Total : \" + total;\n",
    " document.getElementById(\"ans_div\").style.display = \"block\"}\n",
    "    </script>\"\"\"\n",
    "    \n",
    "    return js_head + ans + js_tail"
   ]
  },
  {
   "cell_type": "code",
   "execution_count": 8,
   "metadata": {},
   "outputs": [],
   "source": [
    "tail_html =   \"\"\"\n",
    "</body>\n",
    "\n",
    "</html>\n",
    "\"\"\""
   ]
  },
  {
   "cell_type": "code",
   "execution_count": 9,
   "metadata": {},
   "outputs": [],
   "source": [
    "mid_html = getForm(schema)"
   ]
  },
  {
   "cell_type": "code",
   "execution_count": 10,
   "metadata": {},
   "outputs": [],
   "source": [
    "js = get_js(id_to_score, id_to_question)"
   ]
  },
  {
   "cell_type": "code",
   "execution_count": 11,
   "metadata": {},
   "outputs": [],
   "source": [
    "final = head_html + mid_html + js + tail_html"
   ]
  },
  {
   "cell_type": "code",
   "execution_count": 12,
   "metadata": {},
   "outputs": [],
   "source": [
    "with open(\"index.html\", \"w\") as f:\n",
    "    f.write(final)"
   ]
  },
  {
   "cell_type": "code",
   "execution_count": 13,
   "metadata": {},
   "outputs": [
    {
     "data": {
      "text/plain": [
       "'<script>ans = {};document.getElementById(\"000\").onclick = function (){ans[\"00\"]=0;};document.getElementById(\"001\").onclick = function (){ans[\"00\"]=1;};document.getElementById(\"002\").onclick = function (){ans[\"00\"]=2;};document.getElementById(\"003\").onclick = function (){ans[\"00\"]=3;};document.getElementById(\"004\").onclick = function (){ans[\"00\"]=4;};document.getElementById(\"010\").onclick = function (){ans[\"01\"]=0;};document.getElementById(\"011\").onclick = function (){ans[\"01\"]=1;};document.getElementById(\"012\").onclick = function (){ans[\"01\"]=2;};document.getElementById(\"013\").onclick = function (){ans[\"01\"]=3;};document.getElementById(\"014\").onclick = function (){ans[\"01\"]=4;};document.getElementById(\"020\").onclick = function (){ans[\"02\"]=0;};document.getElementById(\"021\").onclick = function (){ans[\"02\"]=1;};document.getElementById(\"022\").onclick = function (){ans[\"02\"]=2;};document.getElementById(\"023\").onclick = function (){ans[\"02\"]=3;};document.getElementById(\"024\").onclick = function (){ans[\"02\"]=4;};document.getElementById(\"030\").onclick = function (){ans[\"03\"]=0;};document.getElementById(\"031\").onclick = function (){ans[\"03\"]=1;};document.getElementById(\"032\").onclick = function (){ans[\"03\"]=2;};document.getElementById(\"033\").onclick = function (){ans[\"03\"]=3;};document.getElementById(\"034\").onclick = function (){ans[\"03\"]=4;};document.getElementById(\"040\").onclick = function (){ans[\"04\"]=0;};document.getElementById(\"041\").onclick = function (){ans[\"04\"]=1;};document.getElementById(\"042\").onclick = function (){ans[\"04\"]=2;};document.getElementById(\"043\").onclick = function (){ans[\"04\"]=3;};document.getElementById(\"044\").onclick = function (){ans[\"04\"]=4;};document.getElementById(\"050\").onclick = function (){ans[\"05\"]=0;};document.getElementById(\"051\").onclick = function (){ans[\"05\"]=1;};document.getElementById(\"052\").onclick = function (){ans[\"05\"]=2;};document.getElementById(\"053\").onclick = function (){ans[\"05\"]=3;};document.getElementById(\"054\").onclick = function (){ans[\"05\"]=4;};document.getElementById(\"060\").onclick = function (){ans[\"06\"]=0;};document.getElementById(\"061\").onclick = function (){ans[\"06\"]=1;};document.getElementById(\"062\").onclick = function (){ans[\"06\"]=2;};document.getElementById(\"063\").onclick = function (){ans[\"06\"]=3;};document.getElementById(\"064\").onclick = function (){ans[\"06\"]=4;};document.getElementById(\"070\").onclick = function (){ans[\"07\"]=0;};document.getElementById(\"071\").onclick = function (){ans[\"07\"]=1;};document.getElementById(\"072\").onclick = function (){ans[\"07\"]=2;};document.getElementById(\"073\").onclick = function (){ans[\"07\"]=3;};document.getElementById(\"074\").onclick = function (){ans[\"07\"]=4;};document.getElementById(\"080\").onclick = function (){ans[\"08\"]=0;};document.getElementById(\"081\").onclick = function (){ans[\"08\"]=1;};document.getElementById(\"082\").onclick = function (){ans[\"08\"]=2;};document.getElementById(\"083\").onclick = function (){ans[\"08\"]=3;};document.getElementById(\"084\").onclick = function (){ans[\"08\"]=4;};document.getElementById(\"090\").onclick = function (){ans[\"09\"]=0;};document.getElementById(\"091\").onclick = function (){ans[\"09\"]=1;};document.getElementById(\"092\").onclick = function (){ans[\"09\"]=2;};document.getElementById(\"093\").onclick = function (){ans[\"09\"]=3;};document.getElementById(\"094\").onclick = function (){ans[\"09\"]=4;};document.getElementById(\"100\").onclick = function (){ans[\"10\"]=0;};document.getElementById(\"101\").onclick = function (){ans[\"10\"]=1;};document.getElementById(\"102\").onclick = function (){ans[\"10\"]=2;};document.getElementById(\"103\").onclick = function (){ans[\"10\"]=3;};document.getElementById(\"104\").onclick = function (){ans[\"10\"]=4;};document.getElementById(\"110\").onclick = function (){ans[\"11\"]=0;};document.getElementById(\"111\").onclick = function (){ans[\"11\"]=1;};document.getElementById(\"112\").onclick = function (){ans[\"11\"]=2;};document.getElementById(\"113\").onclick = function (){ans[\"11\"]=3;};document.getElementById(\"114\").onclick = function (){ans[\"11\"]=4;};document.getElementById(\"120\").onclick = function (){ans[\"12\"]=0;};document.getElementById(\"121\").onclick = function (){ans[\"12\"]=1;};document.getElementById(\"122\").onclick = function (){ans[\"12\"]=2;};document.getElementById(\"123\").onclick = function (){ans[\"12\"]=3;};document.getElementById(\"124\").onclick = function (){ans[\"12\"]=4;};document.getElementById(\"130\").onclick = function (){ans[\"13\"]=0;};document.getElementById(\"131\").onclick = function (){ans[\"13\"]=1;};document.getElementById(\"132\").onclick = function (){ans[\"13\"]=2;};document.getElementById(\"133\").onclick = function (){ans[\"13\"]=3;};document.getElementById(\"134\").onclick = function (){ans[\"13\"]=4;};document.getElementById(\"140\").onclick = function (){ans[\"14\"]=0;};document.getElementById(\"141\").onclick = function (){ans[\"14\"]=1;};document.getElementById(\"142\").onclick = function (){ans[\"14\"]=2;};document.getElementById(\"143\").onclick = function (){ans[\"14\"]=3;};document.getElementById(\"144\").onclick = function (){ans[\"14\"]=4;};document.getElementById(\"150\").onclick = function (){ans[\"15\"]=0;};document.getElementById(\"151\").onclick = function (){ans[\"15\"]=1;};document.getElementById(\"152\").onclick = function (){ans[\"15\"]=2;};document.getElementById(\"153\").onclick = function (){ans[\"15\"]=3;};document.getElementById(\"154\").onclick = function (){ans[\"15\"]=4;};document.getElementById(\"160\").onclick = function (){ans[\"16\"]=0;};document.getElementById(\"161\").onclick = function (){ans[\"16\"]=1;};document.getElementById(\"162\").onclick = function (){ans[\"16\"]=2;};document.getElementById(\"163\").onclick = function (){ans[\"16\"]=3;};document.getElementById(\"164\").onclick = function (){ans[\"16\"]=4;};document.getElementById(\"200\").onclick = function (){ans[\"20\"]=0;};document.getElementById(\"201\").onclick = function (){ans[\"20\"]=1;};document.getElementById(\"202\").onclick = function (){ans[\"20\"]=2;};document.getElementById(\"203\").onclick = function (){ans[\"20\"]=3;};document.getElementById(\"204\").onclick = function (){ans[\"20\"]=4;};document.getElementById(\"210\").onclick = function (){ans[\"21\"]=0;};document.getElementById(\"211\").onclick = function (){ans[\"21\"]=1;};document.getElementById(\"212\").onclick = function (){ans[\"21\"]=2;};document.getElementById(\"213\").onclick = function (){ans[\"21\"]=3;};document.getElementById(\"214\").onclick = function (){ans[\"21\"]=4;};document.getElementById(\"220\").onclick = function (){ans[\"22\"]=0;};document.getElementById(\"221\").onclick = function (){ans[\"22\"]=1;};document.getElementById(\"222\").onclick = function (){ans[\"22\"]=2;};document.getElementById(\"223\").onclick = function (){ans[\"22\"]=3;};document.getElementById(\"224\").onclick = function (){ans[\"22\"]=4;};document.getElementById(\"230\").onclick = function (){ans[\"23\"]=0;};document.getElementById(\"231\").onclick = function (){ans[\"23\"]=1;};document.getElementById(\"232\").onclick = function (){ans[\"23\"]=2;};document.getElementById(\"233\").onclick = function (){ans[\"23\"]=3;};document.getElementById(\"234\").onclick = function (){ans[\"23\"]=4;};document.getElementById(\"240\").onclick = function (){ans[\"24\"]=0;};document.getElementById(\"241\").onclick = function (){ans[\"24\"]=1;};document.getElementById(\"242\").onclick = function (){ans[\"24\"]=2;};document.getElementById(\"243\").onclick = function (){ans[\"24\"]=3;};document.getElementById(\"244\").onclick = function (){ans[\"24\"]=4;};document.getElementById(\"300\").onclick = function (){ans[\"30\"]=0;};document.getElementById(\"301\").onclick = function (){ans[\"30\"]=1;};document.getElementById(\"302\").onclick = function (){ans[\"30\"]=2;};document.getElementById(\"303\").onclick = function (){ans[\"30\"]=3;};document.getElementById(\"304\").onclick = function (){ans[\"30\"]=4;};document.getElementById(\"310\").onclick = function (){ans[\"31\"]=0;};document.getElementById(\"311\").onclick = function (){ans[\"31\"]=1;};document.getElementById(\"312\").onclick = function (){ans[\"31\"]=2;};document.getElementById(\"313\").onclick = function (){ans[\"31\"]=3;};document.getElementById(\"314\").onclick = function (){ans[\"31\"]=4;};document.getElementById(\"320\").onclick = function (){ans[\"32\"]=0;};document.getElementById(\"321\").onclick = function (){ans[\"32\"]=1;};document.getElementById(\"322\").onclick = function (){ans[\"32\"]=2;};document.getElementById(\"323\").onclick = function (){ans[\"32\"]=3;};document.getElementById(\"324\").onclick = function (){ans[\"32\"]=4;}; document.getElementById(\"ans\").onclick = function (){\\n    var total = 0;\\n    for (var i in ans) {\\n    total += ans[i];\\n    }\\ndocument.getElementById(\"ans_div_value\").innerHTML = \"Total : \" + total;\\n document.getElementById(\"ans_div\").style.display = \"block\"}\\n    </script>'"
      ]
     },
     "execution_count": 13,
     "metadata": {},
     "output_type": "execute_result"
    }
   ],
   "source": [
    "js"
   ]
  },
  {
   "cell_type": "code",
   "execution_count": null,
   "metadata": {},
   "outputs": [],
   "source": []
  }
 ],
 "metadata": {
  "kernelspec": {
   "display_name": "Python 3",
   "language": "python",
   "name": "python3"
  },
  "language_info": {
   "codemirror_mode": {
    "name": "ipython",
    "version": 3
   },
   "file_extension": ".py",
   "mimetype": "text/x-python",
   "name": "python",
   "nbconvert_exporter": "python",
   "pygments_lexer": "ipython3",
   "version": "3.6.3"
  }
 },
 "nbformat": 4,
 "nbformat_minor": 2
}
