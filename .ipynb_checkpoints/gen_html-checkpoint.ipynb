{
 "cells": [
  {
   "cell_type": "code",
   "execution_count": 16,
   "metadata": {},
   "outputs": [],
   "source": [
    "schema = [\n",
    "    [\"Thoughts and Feelings\",\n",
    "      [\n",
    "        \"Feeling sad or down in the dumps\",\n",
    "        \"Feeling unhappy or blue\",\n",
    "        \"Crying spells or tearfulness\",\n",
    "        \"Feeling discouraged\",\n",
    "        \"Feeling hopeless\",\n",
    "        \"Low self esteem\",\n",
    "        \"Feeling worthless or inadequate\",\n",
    "        \"Guilt or shame\",\n",
    "        \"Criticizing yourself or blaming other\",\n",
    "        \"Difficulty making decisions\"\n",
    "      ]\n",
    "    ],\n",
    "\n",
    "    [\n",
    "      \"Activities and Personal Relationships\",\n",
    "      [\n",
    "        \"Loss of interest in family, friends or colleagues\",\n",
    "        \"Loneliness\",\n",
    "        \"Spending less time with family or friends\",\n",
    "        \"Loss of motivation\",\n",
    "        \"Loss of interest in work or other activities\",\n",
    "        \"Avoiding work or other activities\",\n",
    "        \"Loss of pleasure or satisfaction in life\"\n",
    "      ]\n",
    "    ],\n",
    "\n",
    "    [\"Physical Symptoms\",\n",
    "      [\n",
    "        \"Feeling tired\",\n",
    "        \"Difficulty sleeping or sleeping too much\",\n",
    "        \"Decreased or increased appetite\",\n",
    "        \"Loss of interest in sex\",\n",
    "        \"Worrying about your health\"\n",
    "      ]\n",
    "    ],\n",
    "\n",
    "    [\"Suicidal Urges\",\n",
    "      [\n",
    "        \"Do you have any suicidal thoughts?\",\n",
    "        \"Would you like to end your life?\",\n",
    "        \"Do you have a plan for harming yourself?\"\n",
    "      ]\n",
    "    ]\n",
    "  ]"
   ]
  },
  {
   "cell_type": "code",
   "execution_count": 17,
   "metadata": {},
   "outputs": [],
   "source": [
    "def getForm(schema):\n",
    "    form_head = \"<div>\"\n",
    "    mid = \"\"\n",
    "    for s in range(len(schema)):\n",
    "        mid += getSection(s, schema[s])\n",
    "    form_tail = \"</div>\"\n",
    "    return form_head + mid + form_tail"
   ]
  },
  {
   "cell_type": "code",
   "execution_count": 18,
   "metadata": {},
   "outputs": [],
   "source": [
    "def getSection(s, section):\n",
    "    section_head = f\"<div id=section_{s}>\" +f\"<h3>{section[0]}</h3>\"\n",
    "    mid = \"\"\n",
    "    for q in range(len(section[1])):\n",
    "        mid += getQuestion(s,q,section[1][q])\n",
    "    section_tail = \"</div>\"\n",
    "    return section_head + mid + section_tail"
   ]
  },
  {
   "cell_type": "code",
   "execution_count": 19,
   "metadata": {},
   "outputs": [],
   "source": [
    "id_to_score = {}\n",
    "id_to_question = {}\n",
    "def getQuestion(s, q, question):\n",
    "    options = [\"Not At All\",\"Somewhat\",\"Moderately\",\"A Lot\",\"Extremely\"]\n",
    "    question_head = \"<div>\" + question + \"<br>\\n\"\n",
    "    mid = \"\"\n",
    "    for o in range(len(options)):\n",
    "        mid += f\"<input type=\\\"radio\\\" Name=\\\"{str(s)+str(q)}\\\" id=\\\"{str(s)+str(q)+str(o)}\\\"> {options[o]}</input><br>\"\n",
    "        id_to_score[str(s)+str(q)+str(o)]=o\n",
    "        id_to_question[str(s)+str(q)+str(o)]=str(s)+str(q)\n",
    "    question_end = \"</div><br>\"\n",
    "    return question_head + mid + question_end"
   ]
  },
  {
   "cell_type": "code",
   "execution_count": 20,
   "metadata": {},
   "outputs": [],
   "source": [
    "head_html = \"\"\"<html>\n",
    "\n",
    "<head>\n",
    "\n",
    "\n",
    "  <meta name=viewport content='width=700'>\n",
    "  <meta name=\"mobile-web-app-capable\" content=\"yes\">\n",
    "  <meta name=\"theme-color\" content=\"#000000\">\n",
    "  <meta name=\"viewport\" content=\"width=device-width,initial-scale=1,maximum-scale=1,user-scalable=no\">\n",
    "  <meta http-equiv=\"X-UA-Compatible\" content=\"IE=edge,chrome=1\">\n",
    "  <meta name=\"HandheldFriendly\" content=\"true\">\n",
    "  <meta name=\"apple-mobile-web-app-capable\" content=\"yes\">\n",
    "\n",
    "</head>\n",
    "<Title>Jargonizer</Title>\n",
    "\n",
    "<body>\n",
    "  <style>\n",
    "    body {\n",
    "                margin: auto;\n",
    "                background: #fffde8;\n",
    "                padding: 10px;\n",
    "                text-align: left;\n",
    "                align-items: left;\n",
    "            }\n",
    "            textarea{\n",
    "                margin: auto;\n",
    "                min-width: 95%;\n",
    "                max-width: 100%;\n",
    "                min-height: 40%;\n",
    "                margin-bottom:  5%;\t            \n",
    "                border-radius: 6px;\n",
    "                box-shadow: 2px 2px 8px rgba(black, .3);\n",
    "                border: 1\n",
    "            }\n",
    "            textarea #output_area {\n",
    "                margin-bottom: 10%\n",
    "            }\n",
    "            ::-moz-selection {\n",
    "                background: yellow;\n",
    "            }\n",
    "            ::selection {\n",
    "                background: yellow;\n",
    "            }    \n",
    "    \n",
    "        </style>\n",
    "  <h2>Burns Depression Checklist</h2>\n",
    "\"\"\""
   ]
  },
  {
   "cell_type": "code",
   "execution_count": 21,
   "metadata": {},
   "outputs": [],
   "source": [
    "tail_html =   \"\"\"<input type=\"button\" id=\"ans\" value=\"Ans\"><br>\n",
    "<div id=\"ans_div\"></div>\n",
    "<link rel=\"stylesheet\" type=\"text/css\" href=\"//code.ionicframework.com/ionicons/2.0.1/css/ionicons.min.css\" />\n",
    "\n",
    "  <div style=\"text-align: center\">\n",
    "    <br>\n",
    "    <br>\n",
    "    <a href=\"https://twitter.com/arjunbazinga\">@arjunbazinga</a>\n",
    "  </div>\n",
    "\n",
    "</body>\n",
    "\n",
    "</html>\n",
    "\"\"\""
   ]
  },
  {
   "cell_type": "code",
   "execution_count": 49,
   "metadata": {},
   "outputs": [],
   "source": [
    "def get_js(id_to_score, id_to_question):\n",
    "    js_head = \"<script>ans = {};\"\n",
    "    ans = \"\"\n",
    "    for i in id_to_score:\n",
    "        ans += \"document.getElementById(\\\"\"+str(i)+\"\\\").onclick = function ()\" + \"{ans[\\\"\"+ str(id_to_question[i]) + \"\\\"]=\" +str(id_to_score[i])+\";};\"\n",
    "    js_tail = \"\"\" document.getElementById(\"ans\").onclick = function (){\n",
    "    var total = 0;\n",
    "    for (var i in ans) {\n",
    "    total += ans[i];\n",
    "    document.getElementById(\"ans_div\").innerHTML = ans;\n",
    "}}\n",
    "    </script>\"\"\"\n",
    "    \n",
    "    return js_head + ans + js_tail"
   ]
  },
  {
   "cell_type": "code",
   "execution_count": 50,
   "metadata": {},
   "outputs": [],
   "source": [
    "js = get_js(id_to_score, id_to_question)"
   ]
  },
  {
   "cell_type": "code",
   "execution_count": 51,
   "metadata": {},
   "outputs": [],
   "source": [
    "html_struct = getForm(schema)"
   ]
  },
  {
   "cell_type": "code",
   "execution_count": 52,
   "metadata": {},
   "outputs": [],
   "source": [
    "final = head_html + html_struct + js + tail_html"
   ]
  },
  {
   "cell_type": "code",
   "execution_count": 53,
   "metadata": {},
   "outputs": [],
   "source": [
    "with open(\"index.html\", \"w\") as f:\n",
    "    f.write(final)"
   ]
  },
  {
   "cell_type": "code",
   "execution_count": null,
   "metadata": {},
   "outputs": [],
   "source": []
  },
  {
   "cell_type": "code",
   "execution_count": null,
   "metadata": {},
   "outputs": [],
   "source": []
  }
 ],
 "metadata": {
  "kernelspec": {
   "display_name": "Python 3",
   "language": "python",
   "name": "python3"
  },
  "language_info": {
   "codemirror_mode": {
    "name": "ipython",
    "version": 3
   },
   "file_extension": ".py",
   "mimetype": "text/x-python",
   "name": "python",
   "nbconvert_exporter": "python",
   "pygments_lexer": "ipython3",
   "version": "3.6.3"
  }
 },
 "nbformat": 4,
 "nbformat_minor": 2
}
